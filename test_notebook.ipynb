{
 "cells": [
  {
   "cell_type": "code",
   "execution_count": 1,
   "id": "7408b804",
   "metadata": {},
   "outputs": [],
   "source": [
    "import numpy as np\n",
    "import requests"
   ]
  },
  {
   "cell_type": "code",
   "execution_count": 4,
   "id": "625629eb",
   "metadata": {},
   "outputs": [
    {
     "name": "stdout",
     "output_type": "stream",
     "text": [
      "Status code: 200\n",
      "Response JSON: {'model': 'mistral:7b', 'created_at': '2025-07-22T16:13:13.70323016Z', 'response': ' The capital of France is Paris.', 'done': True, 'done_reason': 'stop', 'context': [3, 29473, 2592, 1117, 1040, 6333, 1070, 5611, 29572, 4, 29473, 1183, 6333, 1070, 5611, 1117, 6233, 29491], 'total_duration': 2929999972, 'load_duration': 2655027352, 'prompt_eval_count': 11, 'prompt_eval_duration': 143419520, 'eval_count': 8, 'eval_duration': 130936434}\n"
     ]
    },
    {
     "data": {
      "text/plain": [
       "' The capital of France is Paris.'"
      ]
     },
     "execution_count": 4,
     "metadata": {},
     "output_type": "execute_result"
    }
   ],
   "source": [
    "import requests\n",
    "\n",
    "def chat_with_ollama(prompt, model=\"mistral:7b\"):\n",
    "    url = \"http://localhost:11434/api/generate\"\n",
    "    payload = {\n",
    "        \"model\": model,\n",
    "        \"prompt\": prompt,\n",
    "        \"stream\": False\n",
    "    }\n",
    "    \n",
    "    response = requests.post(url, json=payload)\n",
    "\n",
    "    # Print full JSON response for debugging\n",
    "    print(\"Status code:\", response.status_code)\n",
    "    print(\"Response JSON:\", response.json())\n",
    "\n",
    "    data = response.json()\n",
    "    \n",
    "    if \"response\" in data:\n",
    "        return data[\"response\"]\n",
    "    elif \"error\" in data:\n",
    "        raise RuntimeError(f\"Ollama error: {data['error']}\")\n",
    "    else:\n",
    "        raise ValueError(\"Unexpected response format from Ollama\")\n",
    "\n",
    "# Try it again\n",
    "chat_with_ollama(\"What is the capital of France?\")\n"
   ]
  },
  {
   "cell_type": "code",
   "execution_count": null,
   "id": "5c49b5e5",
   "metadata": {},
   "outputs": [],
   "source": []
  }
 ],
 "metadata": {
  "kernelspec": {
   "display_name": "agents",
   "language": "python",
   "name": "python3"
  },
  "language_info": {
   "codemirror_mode": {
    "name": "ipython",
    "version": 3
   },
   "file_extension": ".py",
   "mimetype": "text/x-python",
   "name": "python",
   "nbconvert_exporter": "python",
   "pygments_lexer": "ipython3",
   "version": "3.12.3"
  }
 },
 "nbformat": 4,
 "nbformat_minor": 5
}
